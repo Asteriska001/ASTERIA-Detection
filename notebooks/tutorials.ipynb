{
 "cells": [
  {
   "cell_type": "markdown",
   "id": "a2f5366c-0fc9-4e7e-98a2-e56f4b1f2b9c",
   "metadata": {
    "tags": []
   },
   "source": [
    "## Setup"
   ]
  },
  {
   "cell_type": "code",
   "execution_count": 17,
   "id": "cb3a353b-3281-428a-b888-f63ac19def12",
   "metadata": {},
   "outputs": [
    {
     "name": "stdout",
     "output_type": "stream",
     "text": [
      "Cloning into 'astBugDetection'...\n",
      "^C\n",
      "[Errno 2] No such file or directory: 'astBugDetection'\n",
      "/root/astBugDetection/notebooks\n",
      "\u001b[31mERROR: File \"setup.py\" or \"setup.cfg\" not found. Directory cannot be installed in editable mode: /root/astBugDetection/notebooks\u001b[0m\n",
      "Note: you may need to restart the kernel to use updated packages.\n"
     ]
    }
   ],
   "source": [
    "!git clone https://github.com/Asteriska001/astBugDetection\n",
    "%cd astBugDetection\n",
    "%pip install -e ."
   ]
  },
  {
   "cell_type": "markdown",
   "id": "39e00fdf-e245-400f-b1da-729a2e988265",
   "metadata": {},
   "source": [
    "## Show Available Pretrained Models"
   ]
  },
  {
   "cell_type": "code",
   "execution_count": 5,
   "id": "b3992e63-82bc-4275-8c84-4c7c397030f0",
   "metadata": {},
   "outputs": [
    {
     "name": "stdout",
     "output_type": "stream",
     "text": [
      "no change     /root/miniconda3/condabin/conda\n",
      "no change     /root/miniconda3/bin/conda\n",
      "no change     /root/miniconda3/bin/conda-env\n",
      "no change     /root/miniconda3/bin/activate\n",
      "no change     /root/miniconda3/bin/deactivate\n",
      "no change     /root/miniconda3/etc/profile.d/conda.sh\n",
      "no change     /root/miniconda3/etc/fish/conf.d/conda.fish\n",
      "no change     /root/miniconda3/shell/condabin/Conda.psm1\n",
      "no change     /root/miniconda3/shell/condabin/conda-hook.ps1\n",
      "no change     /root/miniconda3/lib/python3.8/site-packages/xontrib/conda.xsh\n",
      "no change     /root/miniconda3/etc/profile.d/conda.csh\n",
      "no change     /root/.bashrc\n",
      "No action taken.\n",
      "\n",
      "Note: you may need to restart the kernel to use updated packages.\n",
      "/root/ASTERIA-Detection\n",
      "\n",
      "CommandNotFoundError: Your shell has not been properly configured to use 'conda activate'.\n",
      "To initialize your shell, run\n",
      "\n",
      "    $ conda init <SHELL_NAME>\n",
      "\n",
      "Currently supported shells are:\n",
      "  - bash\n",
      "  - fish\n",
      "  - tcsh\n",
      "  - xonsh\n",
      "  - zsh\n",
      "  - powershell\n",
      "\n",
      "See 'conda init --help' for more information and options.\n",
      "\n",
      "IMPORTANT: You may need to close and restart your shell after running 'conda init'.\n",
      "\n",
      "\n"
     ]
    }
   ],
   "source": [
    "%conda init bash\n",
    "%cd /root/ASTERIA-Detection\n",
    "!conda activate ASTERIA"
   ]
  },
  {
   "cell_type": "code",
   "execution_count": 6,
   "id": "3661b0c5-6256-488e-b720-1a5c134e4d7f",
   "metadata": {},
   "outputs": [
    {
     "ename": "ModuleNotFoundError",
     "evalue": "No module named 'tabulate'",
     "output_type": "error",
     "traceback": [
      "\u001b[0;31m---------------------------------------------------------------------------\u001b[0m",
      "\u001b[0;31mModuleNotFoundError\u001b[0m                       Traceback (most recent call last)",
      "Input \u001b[0;32mIn [6]\u001b[0m, in \u001b[0;36m<cell line: 1>\u001b[0;34m()\u001b[0m\n\u001b[0;32m----> 1\u001b[0m \u001b[38;5;28;01mfrom\u001b[39;00m \u001b[38;5;21;01mframework\u001b[39;00m \u001b[38;5;28;01mimport\u001b[39;00m show_models\n\u001b[1;32m      3\u001b[0m show_models()\n",
      "File \u001b[0;32m~/ASTERIA-Detection/framework/__init__.py:1\u001b[0m, in \u001b[0;36m<module>\u001b[0;34m\u001b[0m\n\u001b[0;32m----> 1\u001b[0m \u001b[38;5;28;01mfrom\u001b[39;00m \u001b[38;5;21;01mtabulate\u001b[39;00m \u001b[38;5;28;01mimport\u001b[39;00m tabulate\n\u001b[1;32m      2\u001b[0m \u001b[38;5;28;01mfrom\u001b[39;00m \u001b[38;5;21;01mframework\u001b[39;00m \u001b[38;5;28;01mimport\u001b[39;00m models\n\u001b[1;32m      3\u001b[0m \u001b[38;5;28;01mfrom\u001b[39;00m \u001b[38;5;21;01mframework\u001b[39;00m \u001b[38;5;28;01mimport\u001b[39;00m datasets\n",
      "\u001b[0;31mModuleNotFoundError\u001b[0m: No module named 'tabulate'"
     ]
    }
   ],
   "source": [
    "from framework import show_models\n",
    "\n",
    "show_models()"
   ]
  },
  {
   "cell_type": "markdown",
   "id": "55ea0fd9-fb14-4b1e-aecd-5843389915c7",
   "metadata": {},
   "source": [
    "## Show Available Datasets"
   ]
  },
  {
   "cell_type": "code",
   "execution_count": 1,
   "id": "ae5d6561-71db-441b-85db-1e59fac8c519",
   "metadata": {},
   "outputs": [
    {
     "ename": "ModuleNotFoundError",
     "evalue": "No module named 'framework'",
     "output_type": "error",
     "traceback": [
      "\u001b[0;31m---------------------------------------------------------------------------\u001b[0m",
      "\u001b[0;31mModuleNotFoundError\u001b[0m                       Traceback (most recent call last)",
      "Input \u001b[0;32mIn [1]\u001b[0m, in \u001b[0;36m<cell line: 1>\u001b[0;34m()\u001b[0m\n\u001b[0;32m----> 1\u001b[0m \u001b[38;5;28;01mfrom\u001b[39;00m \u001b[38;5;21;01mframework\u001b[39;00m \u001b[38;5;28;01mimport\u001b[39;00m show_datasets\n\u001b[1;32m      3\u001b[0m show_datasets()\n",
      "\u001b[0;31mModuleNotFoundError\u001b[0m: No module named 'framework'"
     ]
    }
   ],
   "source": [
    "from framework import show_datasets\n",
    "\n",
    "show_datasets()"
   ]
  },
  {
   "cell_type": "markdown",
   "id": "adbe4157-d0ce-4270-8f56-8f401d0cff7f",
   "metadata": {
    "jp-MarkdownHeadingCollapsed": true,
    "tags": []
   },
   "source": [
    "## Show Available Representations"
   ]
  },
  {
   "cell_type": "code",
   "execution_count": 15,
   "id": "d358a176-dc49-4059-9082-aab988cdbfc9",
   "metadata": {},
   "outputs": [
    {
     "ename": "NameError",
     "evalue": "name 'representations' is not defined",
     "output_type": "error",
     "traceback": [
      "\u001b[0;31m---------------------------------------------------------------------------\u001b[0m",
      "\u001b[0;31mNameError\u001b[0m                                 Traceback (most recent call last)",
      "\u001b[0;32m/tmp/ipykernel_10880/377758852.py\u001b[0m in \u001b[0;36m<module>\u001b[0;34m\u001b[0m\n\u001b[1;32m      1\u001b[0m \u001b[0;32mfrom\u001b[0m \u001b[0mframework\u001b[0m \u001b[0;32mimport\u001b[0m \u001b[0mshow_representations\u001b[0m\u001b[0;34m\u001b[0m\u001b[0;34m\u001b[0m\u001b[0m\n\u001b[1;32m      2\u001b[0m \u001b[0;34m\u001b[0m\u001b[0m\n\u001b[0;32m----> 3\u001b[0;31m \u001b[0mshow_representations\u001b[0m\u001b[0;34m(\u001b[0m\u001b[0;34m)\u001b[0m\u001b[0;34m\u001b[0m\u001b[0;34m\u001b[0m\u001b[0m\n\u001b[0m",
      "\u001b[0;32m~/astBugDetection/framework/__init__.py\u001b[0m in \u001b[0;36mshow_representations\u001b[0;34m()\u001b[0m\n\u001b[1;32m     13\u001b[0m \u001b[0;34m\u001b[0m\u001b[0m\n\u001b[1;32m     14\u001b[0m \u001b[0;32mdef\u001b[0m \u001b[0mshow_representations\u001b[0m\u001b[0;34m(\u001b[0m\u001b[0;34m)\u001b[0m\u001b[0;34m:\u001b[0m\u001b[0;34m\u001b[0m\u001b[0;34m\u001b[0m\u001b[0m\n\u001b[0;32m---> 15\u001b[0;31m     \u001b[0mprint\u001b[0m\u001b[0;34m(\u001b[0m\u001b[0mtype\u001b[0m\u001b[0;34m(\u001b[0m\u001b[0mrepresentations\u001b[0m\u001b[0;34m)\u001b[0m\u001b[0;34m)\u001b[0m\u001b[0;34m\u001b[0m\u001b[0;34m\u001b[0m\u001b[0m\n\u001b[0m\u001b[1;32m     16\u001b[0m     \u001b[0mrepresentation_names\u001b[0m \u001b[0;34m=\u001b[0m \u001b[0mrepresentations\u001b[0m\u001b[0;34m.\u001b[0m\u001b[0m__all__\u001b[0m\u001b[0;34m\u001b[0m\u001b[0;34m\u001b[0m\u001b[0m\n\u001b[1;32m     17\u001b[0m     \u001b[0mnumbers\u001b[0m \u001b[0;34m=\u001b[0m \u001b[0mlist\u001b[0m\u001b[0;34m(\u001b[0m\u001b[0mrange\u001b[0m\u001b[0;34m(\u001b[0m\u001b[0;36m1\u001b[0m\u001b[0;34m,\u001b[0m \u001b[0mlen\u001b[0m\u001b[0;34m(\u001b[0m\u001b[0mrepresentation_names\u001b[0m\u001b[0;34m)\u001b[0m\u001b[0;34m+\u001b[0m\u001b[0;36m1\u001b[0m\u001b[0;34m)\u001b[0m\u001b[0;34m)\u001b[0m\u001b[0;34m\u001b[0m\u001b[0;34m\u001b[0m\u001b[0m\n",
      "\u001b[0;31mNameError\u001b[0m: name 'representations' is not defined"
     ]
    }
   ],
   "source": [
    "from framework import show_representations\n",
    "\n",
    "show_representations()"
   ]
  }
 ],
 "metadata": {
  "kernelspec": {
   "display_name": "Python 3 (ipykernel)",
   "language": "python",
   "name": "python3"
  },
  "language_info": {
   "codemirror_mode": {
    "name": "ipython",
    "version": 3
   },
   "file_extension": ".py",
   "mimetype": "text/x-python",
   "name": "python",
   "nbconvert_exporter": "python",
   "pygments_lexer": "ipython3",
   "version": "3.8.18"
  }
 },
 "nbformat": 4,
 "nbformat_minor": 5
}
